{
 "cells": [
  {
   "cell_type": "code",
   "execution_count": 1,
   "id": "8e2e47d7",
   "metadata": {},
   "outputs": [],
   "source": [
    "import os\n",
    "import time\n",
    "\n",
    "from selenium import webdriver\n",
    "from selenium.webdriver.common.by import By\n",
    "\n",
    "chromedriver_path = \"C:\\\\Users\\\\Araf\\\\Desktop\\\\Script\\\\chromedriver_win32\"\n",
    "os.environ['PATH'] += chromedriver_path"
   ]
  },
  {
   "cell_type": "code",
   "execution_count": 2,
   "id": "8cca001d",
   "metadata": {},
   "outputs": [],
   "source": [
    "driver = webdriver.Chrome()\n",
    "driver.implicitly_wait(40)\n",
    "\n",
    "driver.get(\"https://vjudge.net/\")\n",
    "# do login manually"
   ]
  },
  {
   "cell_type": "code",
   "execution_count": 3,
   "id": "95a0e1d7",
   "metadata": {},
   "outputs": [],
   "source": [
    "driver.get(\"https://vjudge.net/user/kzvd4729#\")\n",
    "# go to the profile page and toggle"
   ]
  },
  {
   "cell_type": "code",
   "execution_count": 46,
   "id": "f1c41df3",
   "metadata": {},
   "outputs": [],
   "source": [
    "data = driver.find_elements(By.TAG_NAME, \"tr\")\n",
    "data = data[26]\n",
    "# Uva is in 27\n",
    "# Lightoj 21\n",
    "# Uvalive 28\n",
    "# SPOJ 24\n",
    "# POJ 22\n",
    "# Kattis 20\n",
    "# HDU 17\n",
    "# HackerRank 16\n",
    "# URAL 26"
   ]
  },
  {
   "cell_type": "code",
   "execution_count": 47,
   "id": "7fc8d613",
   "metadata": {},
   "outputs": [
    {
     "data": {
      "text/plain": [
       "'URAL 1022 1028 1079 1080 1090 1146 1280 1526 1822 1954 1989 2044 2060 1732'"
      ]
     },
     "execution_count": 47,
     "metadata": {},
     "output_type": "execute_result"
    }
   ],
   "source": [
    "data.text"
   ]
  },
  {
   "cell_type": "code",
   "execution_count": 48,
   "id": "d64e5671",
   "metadata": {},
   "outputs": [],
   "source": [
    "problem_links = []\n",
    "links = data.find_elements(By.CSS_SELECTOR, \"a[href*='/']\")\n",
    "for link in links:\n",
    "    problem_links.append(link.get_attribute(\"href\"))"
   ]
  },
  {
   "cell_type": "code",
   "execution_count": 49,
   "id": "d18977f8",
   "metadata": {},
   "outputs": [
    {
     "data": {
      "text/plain": [
       "14"
      ]
     },
     "execution_count": 49,
     "metadata": {},
     "output_type": "execute_result"
    }
   ],
   "source": [
    "len(problem_links)"
   ]
  },
  {
   "cell_type": "code",
   "execution_count": 50,
   "id": "f87d3af9",
   "metadata": {},
   "outputs": [
    {
     "name": "stdout",
     "output_type": "stream",
     "text": [
      "done 0:  1/3   URAL - 1022\n",
      "done 0:  2/3   URAL - 1022\n",
      "done 0:  3/3   URAL - 1022\n",
      "done 1:  1/1   URAL - 1028\n",
      "done 2:  1/1   URAL - 1079\n",
      "done 3:  1/1   URAL - 1080\n",
      "done 4:  1/5   URAL - 1090\n",
      "done 4:  2/5   URAL - 1090\n",
      "done 4:  3/5   URAL - 1090\n",
      "done 4:  4/5   URAL - 1090\n",
      "done 4:  5/5   URAL - 1090\n",
      "done 5:  1/2   URAL - 1146\n",
      "done 5:  2/2   URAL - 1146\n",
      "done 6:  1/1   URAL - 1280\n",
      "done 7:  1/1   URAL - 1526\n",
      "done 8:  1/2   URAL - 1822\n",
      "done 8:  2/2   URAL - 1822\n",
      "done 9:  1/9   URAL - 1954\n",
      "done 9:  2/9   URAL - 1954\n",
      "done 9:  3/9   URAL - 1954\n",
      "done 9:  4/9   URAL - 1954\n",
      "done 9:  5/9   URAL - 1954\n",
      "done 9:  6/9   URAL - 1954\n",
      "done 9:  7/9   URAL - 1954\n",
      "done 9:  8/9   URAL - 1954\n",
      "done 9:  9/9   URAL - 1954\n",
      "done 10:  1/2   URAL - 1989\n",
      "done 10:  2/2   URAL - 1989\n",
      "done 11:  1/5   URAL - 2044\n",
      "done 11:  2/5   URAL - 2044\n",
      "done 11:  3/5   URAL - 2044\n",
      "done 11:  4/5   URAL - 2044\n",
      "done 11:  5/5   URAL - 2044\n",
      "done 12:  1/10   URAL - 2060\n",
      "done 12:  2/10   URAL - 2060\n",
      "done 12:  3/10   URAL - 2060\n",
      "done 12:  4/10   URAL - 2060\n",
      "done 12:  5/10   URAL - 2060\n",
      "done 12:  6/10   URAL - 2060\n",
      "done 12:  7/10   URAL - 2060\n",
      "done 12:  8/10   URAL - 2060\n",
      "done 12:  9/10   URAL - 2060\n",
      "done 12:  10/10   URAL - 2060\n",
      "done 13:  1/2   URAL - 1732\n",
      "done 13:  2/2   URAL - 1732\n"
     ]
    }
   ],
   "source": [
    "# len of problme_links = 216\n",
    "lt = 0\n",
    "rt = 13\n",
    "for i in range(lt, rt+1):\n",
    "    prb = problem_links[i]\n",
    "    driver.get(prb)\n",
    "    time.sleep(5)\n",
    "    \n",
    "    t_row = driver.find_elements(By.TAG_NAME, \"tr\")\n",
    "    t_row = t_row[1:]\n",
    "    \n",
    "    c_sub = 0\n",
    "    for row in t_row:\n",
    "        t_col = row.find_elements(By.TAG_NAME, \"td\")\n",
    "        title = t_col[1].text.strip()+\" - \"+t_col[2].text.strip()\n",
    "        p_link = (t_col[2].find_element(By.CSS_SELECTOR, \"a[href*='problem']\")).get_attribute(\"href\")\n",
    "        verdict = t_col[4].text.strip()\n",
    "        run_time = t_col[5].text.strip()\n",
    "        mem_used = t_col[6].text.strip()\n",
    "        language = t_col[8].text.strip()\n",
    "        \n",
    "        btn = t_col[4].find_element(By.CSS_SELECTOR, \".view-solution\")\n",
    "        btn.click()\n",
    "        time.sleep(3)\n",
    "        \n",
    "        code = driver.find_element(By.TAG_NAME, \"code\").text\n",
    "        created = driver.find_element(By.CSS_SELECTOR, \".Submitted\").text.strip()\n",
    "        \n",
    "        close = driver.find_element(By.CSS_SELECTOR, \".fa-close\")\n",
    "        close.click()\n",
    "        time.sleep(1)\n",
    "        \n",
    "        \n",
    "        table_data=[\n",
    "            [f'*  @author: kzvd4729', f'created: {created}'],\n",
    "            [f'*  solution_verdict: {verdict}', f'language: {language}'],\n",
    "            [f'*  run_time (ms): {run_time}', f'memory_used (MB): {mem_used}']\n",
    "        ]\n",
    "        printer = '/****************************************************************************************\\n'\n",
    "        for row in table_data:\n",
    "            printer+=(\"{: <60} {: <50}\".format(*row))+'\\n'\n",
    "        printer += f\"*  problem: {p_link}\\n\"\n",
    "        printer +='****************************************************************************************/\\n'\n",
    "\n",
    "        printer += code\n",
    "        \n",
    "        if len(printer)<590:\n",
    "            print(\"got one bad\")\n",
    "            break\n",
    "            \n",
    "        current = f\"URAL/{title}\"\n",
    "        if not os.path.exists(current):\n",
    "            os.mkdir(current)\n",
    "            \n",
    "        \n",
    "        current = current+f'/{verdict}'\n",
    "        for j in range(1, 1000):\n",
    "            if (j==1):\n",
    "                now = current+'.cpp'\n",
    "            else:\n",
    "                now = current+f' ({j}).cpp'\n",
    "\n",
    "            if not os.path.exists(now):\n",
    "                with open(now, 'w', encoding='utf8') as f:\n",
    "                    f.write(printer)\n",
    "                f.close()\n",
    "\n",
    "                break\n",
    "        c_sub+=1\n",
    "        print(f\"done {i}:  {c_sub}/{len(t_row)}   {title}\")\n",
    "        "
   ]
  },
  {
   "cell_type": "code",
   "execution_count": null,
   "id": "ca277012",
   "metadata": {},
   "outputs": [],
   "source": []
  }
 ],
 "metadata": {
  "kernelspec": {
   "display_name": "Python 3 (ipykernel)",
   "language": "python",
   "name": "python3"
  },
  "language_info": {
   "codemirror_mode": {
    "name": "ipython",
    "version": 3
   },
   "file_extension": ".py",
   "mimetype": "text/x-python",
   "name": "python",
   "nbconvert_exporter": "python",
   "pygments_lexer": "ipython3",
   "version": "3.9.7"
  }
 },
 "nbformat": 4,
 "nbformat_minor": 5
}
