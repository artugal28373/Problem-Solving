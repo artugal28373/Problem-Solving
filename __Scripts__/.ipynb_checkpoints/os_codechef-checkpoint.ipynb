{
 "cells": [
  {
   "cell_type": "code",
   "execution_count": 14,
   "id": "f9520ef5",
   "metadata": {},
   "outputs": [],
   "source": [
    "import os\n",
    "path = 'codechef/'\n",
    "path_sorted = \"codechef_sorted/\"\n",
    "files = os.listdir(path)\n",
    "\n",
    "\n",
    "def get_name_ans_verdict(file):\n",
    "    ok = file.split(\")\")\n",
    "    return ok[1], ok[2][:-4]\n",
    "\n",
    "for file in files:\n",
    "    #print(get_verdict(file))\n",
    "    #print(get_name(file))\n",
    "    \n",
    "    name, verdict = get_name_ans_verdict(file)\n",
    "    \n",
    "    current = path_sorted+name\n",
    "    \n",
    "    if not os.path.exists(current):\n",
    "        os.mkdir(current)\n",
    "    \n",
    "    with open(f\"{path}{file}\", 'r') as f:\n",
    "        code = f.read()\n",
    "    f.close()\n",
    "    #os.remove(f\"{path}{file}\")\n",
    "    \n",
    "    current = path_sorted+name+f'/{verdict}'\n",
    "    for j in range(1, 1000):\n",
    "        if (j==1):\n",
    "            now = current+'.cpp'\n",
    "        else:\n",
    "            now = current+f' ({j}).cpp'\n",
    "\n",
    "        if not os.path.exists(now):\n",
    "            with open(now, 'w') as f:\n",
    "                f.write(code)\n",
    "            f.close()\n",
    "\n",
    "            break"
   ]
  },
  {
   "cell_type": "code",
   "execution_count": null,
   "id": "a4080a71",
   "metadata": {},
   "outputs": [],
   "source": []
  }
 ],
 "metadata": {
  "kernelspec": {
   "display_name": "Python 3 (ipykernel)",
   "language": "python",
   "name": "python3"
  },
  "language_info": {
   "codemirror_mode": {
    "name": "ipython",
    "version": 3
   },
   "file_extension": ".py",
   "mimetype": "text/x-python",
   "name": "python",
   "nbconvert_exporter": "python",
   "pygments_lexer": "ipython3",
   "version": "3.9.7"
  }
 },
 "nbformat": 4,
 "nbformat_minor": 5
}
