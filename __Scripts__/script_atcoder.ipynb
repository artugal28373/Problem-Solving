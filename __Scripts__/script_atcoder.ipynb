{
 "cells": [
  {
   "cell_type": "code",
   "execution_count": 1,
   "id": "cf7d007a",
   "metadata": {},
   "outputs": [],
   "source": [
    "import os\n",
    "import time\n",
    "\n",
    "from selenium import webdriver\n",
    "from selenium.webdriver.common.by import By\n",
    "\n",
    "chromedriver_path = \"C:\\\\Users\\\\Araf\\\\Desktop\\\\Script\\\\chromedriver_win32\"\n",
    "os.environ['PATH'] += chromedriver_path"
   ]
  },
  {
   "cell_type": "code",
   "execution_count": 2,
   "id": "000be676",
   "metadata": {},
   "outputs": [],
   "source": [
    "driver = webdriver.Chrome()\n",
    "driver.implicitly_wait(40)\n",
    "\n",
    "driver.get(\"https://atcoder.jp\")\n",
    "# do login manually"
   ]
  },
  {
   "cell_type": "code",
   "execution_count": 16,
   "id": "347a0ee8",
   "metadata": {},
   "outputs": [],
   "source": [
    "# there are 9 pages of contests\n",
    "page = 9\n",
    "driver.get(f\"https://atcoder.jp/contests/archive?page={page}\")\n",
    "time.sleep(7)\n",
    "contests = driver.find_elements(By.XPATH, \"//div/div/div/div[3]/div[2]/div/table/tbody/tr\") # all contest links\n",
    "\n",
    "contest_links = []\n",
    "for _ in contests:\n",
    "    contest_links.append(str(_.find_element(By.CSS_SELECTOR, 'a[href*=\"/contests\"]').get_attribute(\"href\")))"
   ]
  },
  {
   "cell_type": "code",
   "execution_count": 17,
   "id": "538ac5cb",
   "metadata": {},
   "outputs": [
    {
     "name": "stdout",
     "output_type": "stream",
     "text": [
      "parsing: 0 of 9\n",
      "parsing: 1 of 9\n",
      "parsing: 2 of 9\n",
      "parsing: 3 of 9\n",
      "submission:  0/2\n",
      "submission:  1/2\n",
      "submission:  2/2\n",
      "parsing: 4 of 9\n",
      "parsing: 5 of 9\n",
      "parsing: 6 of 9\n",
      "parsing: 7 of 9\n",
      "parsing: 8 of 9\n",
      "parsing: 9 of 9\n"
     ]
    }
   ],
   "source": [
    "lt = 0\n",
    "rt = len(contest_links)-1\n",
    "\n",
    "for i in range(lt, rt+1): # for each contest\n",
    "    \n",
    "    print(f\"parsing: {i} of {rt}\")\n",
    "    \n",
    "    driver.get(contest_links[i]+\"/submissions/me\") # go to my submission page\n",
    "    time.sleep(6)\n",
    "    \n",
    "    all_text = driver.find_element(By.TAG_NAME, \"body\").text\n",
    "    if \"No Submissions\" in all_text:\n",
    "        continue\n",
    "            \n",
    "    rows = driver.find_elements(By.XPATH, \"//div/table/tbody/tr\") # for each submission\n",
    "    code_pages = []\n",
    "    for row in rows:\n",
    "        cols = row.find_elements(By.TAG_NAME, \"td\")\n",
    "        if len(cols)<10:\n",
    "            continue\n",
    "        code_pages.append(cols[9].find_element(By.TAG_NAME, \"a\").get_attribute(\"href\"))\n",
    "    \n",
    "    for j in range(len(code_pages)):\n",
    "        driver.get(code_pages[j])\n",
    "        time.sleep(6)\n",
    "        \n",
    "        detail = driver.find_elements(By.XPATH, \"//body/div[3]/div/div/div[2]/div[3]/table/tbody/tr/td\")\n",
    "        verdict = detail[6].text.strip()\n",
    "        created = detail[0].text.strip()\n",
    "        title = detail[1].text.strip()\n",
    "        p_link = detail[1].find_element(By.CSS_SELECTOR, \"a[href*='tasks']\").get_attribute(\"href\")\n",
    "        language = detail[3].text.strip()\n",
    "        run_time = detail[7].text.strip()\n",
    "        mem_used = detail[8].text.strip()\n",
    "        \n",
    "        code = driver.find_element(By.CSS_SELECTOR, \".linenums\").text\n",
    "        \n",
    "        table_data=[\n",
    "            [f'*  @author: kzvd4729', f'created: {created}'],\n",
    "            [f'*  solution_verdict: {verdict}', f'language: {language}'],\n",
    "            [f'*  run_time: {run_time}', f'memory_used: {mem_used}']\n",
    "        ]\n",
    "        printer = '/****************************************************************************************\\n'\n",
    "        for row in table_data:\n",
    "            printer+=(\"{: <60} {: <50}\".format(*row))+'\\n'\n",
    "        printer += f\"*  problem: {p_link}\\n\"\n",
    "        printer +='****************************************************************************************/\\n'\n",
    "        \n",
    "        printer += code\n",
    "        \n",
    "        if len(printer)<590:\n",
    "            print(\"got one bad\")\n",
    "            exit()\n",
    "        \n",
    "        for c in \"\\/:*?\\\"<>|.\": # folder name can't have these character\n",
    "            title = title.replace(c, 'x')\n",
    "            \n",
    "        current = f\"atcoder/{title}\"\n",
    "        if not os.path.exists(current):\n",
    "            os.mkdir(current)\n",
    "        \n",
    "        current = current+f'/{verdict}'\n",
    "        for k in range(1, 1000):\n",
    "            if (k==1):\n",
    "                now = current+'.cpp'\n",
    "            else:\n",
    "                now = current+f' ({k}).cpp'\n",
    "\n",
    "            if not os.path.exists(now):\n",
    "                with open(now, 'w') as f:\n",
    "                    f.write(printer)\n",
    "                f.close()\n",
    "\n",
    "                break\n",
    "        print(f\"submission:  {j}/{len(code_pages)-1}\")\n",
    "        "
   ]
  },
  {
   "cell_type": "code",
   "execution_count": null,
   "id": "0d47d66b",
   "metadata": {},
   "outputs": [],
   "source": []
  }
 ],
 "metadata": {
  "kernelspec": {
   "display_name": "Python 3 (ipykernel)",
   "language": "python",
   "name": "python3"
  },
  "language_info": {
   "codemirror_mode": {
    "name": "ipython",
    "version": 3
   },
   "file_extension": ".py",
   "mimetype": "text/x-python",
   "name": "python",
   "nbconvert_exporter": "python",
   "pygments_lexer": "ipython3",
   "version": "3.9.7"
  }
 },
 "nbformat": 4,
 "nbformat_minor": 5
}
